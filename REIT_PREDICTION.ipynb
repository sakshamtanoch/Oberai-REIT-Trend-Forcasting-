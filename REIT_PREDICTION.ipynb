{
  "nbformat": 4,
  "nbformat_minor": 0,
  "metadata": {
    "colab": {
      "provenance": []
    },
    "kernelspec": {
      "name": "python3",
      "display_name": "Python 3"
    },
    "language_info": {
      "name": "python"
    }
  },
  "cells": [
    {
      "cell_type": "code",
      "execution_count": null,
      "metadata": {
        "id": "dTFU2lbVoQLC"
      },
      "outputs": [],
      "source": [
        "import numpy as np\n",
        "import pandas as pd\n",
        "import matplotlib.pyplot as plt\n",
        "\n",
        "# for scaling\n",
        "from sklearn.preprocessing import MinMaxScaler\n",
        "\n",
        "# for layers and RNN\n",
        "from keras.models import Sequential\n",
        "from keras.layers import Dense\n",
        "from keras.layers import LSTM\n",
        "from keras.layers import Dropout"
      ]
    },
    {
      "cell_type": "code",
      "source": [
        "dataset_train  = pd.read_csv('/content/OBEROIRLTY.NS Training.csv')\n",
        "training_set = dataset_train.iloc[ :, 1:2]\n",
        "training_set = np.array(training_set)"
      ],
      "metadata": {
        "id": "WoQhjR5kopdx"
      },
      "execution_count": null,
      "outputs": []
    },
    {
      "cell_type": "code",
      "source": [
        "training_set"
      ],
      "metadata": {
        "colab": {
          "base_uri": "https://localhost:8080/"
        },
        "id": "9Fcihpflq_CF",
        "outputId": "dd88fb73-4de7-4f48-b146-024a9159e214"
      },
      "execution_count": null,
      "outputs": [
        {
          "output_type": "execute_result",
          "data": {
            "text/plain": [
              "array([[494.649994],\n",
              "       [488.      ],\n",
              "       [496.600006],\n",
              "       ...,\n",
              "       [840.      ],\n",
              "       [841.200012],\n",
              "       [850.900024]])"
            ]
          },
          "metadata": {},
          "execution_count": 16
        }
      ]
    },
    {
      "cell_type": "markdown",
      "source": [
        "## Feature scaling:\n",
        "Now that we have feature we want it to be scaled.\n",
        "\n",
        "Either we can perform standardization or normalization"
      ],
      "metadata": {
        "id": "u_JnmscdsDjD"
      }
    },
    {
      "cell_type": "code",
      "source": [
        "scaling = MinMaxScaler(feature_range = (0,1))\n",
        "scaled_trset = scaling.fit_transform(training_set)"
      ],
      "metadata": {
        "id": "N5py7XWxrJkW"
      },
      "execution_count": null,
      "outputs": []
    },
    {
      "cell_type": "code",
      "source": [
        "scaled_trset"
      ],
      "metadata": {
        "colab": {
          "base_uri": "https://localhost:8080/"
        },
        "id": "KGjKx9-qtuV9",
        "outputId": "510ea8e3-7b9e-4d57-96c8-39a53f66bf63"
      },
      "execution_count": null,
      "outputs": [
        {
          "output_type": "execute_result",
          "data": {
            "text/plain": [
              "array([[0.25524945],\n",
              "       [0.24670904],\n",
              "       [0.2577538 ],\n",
              "       ...,\n",
              "       [0.69877348],\n",
              "       [0.70031462],\n",
              "       [0.71277209]])"
            ]
          },
          "metadata": {},
          "execution_count": 18
        }
      ]
    },
    {
      "cell_type": "code",
      "source": [
        "train_x = []\n",
        "train_y = []\n",
        "\n",
        "for i in range(60, 1182):\n",
        "  train_x.append(scaled_trset[i-60:i,0])\n",
        "  train_y.append(scaled_trset[i, 0])\n",
        "x_train, y_train = np.array(train_x), np.array(train_y)\n"
      ],
      "metadata": {
        "id": "WbmKn3jvt1vE"
      },
      "execution_count": null,
      "outputs": []
    },
    {
      "cell_type": "markdown",
      "source": [
        "in the above snipet, \n",
        "\n",
        "y_train gives the array of values of stock on every 60th day. \n",
        "\n",
        "x_train gives the stock price from every 1 to 59 th day "
      ],
      "metadata": {
        "id": "LmwYQ2RRw5DM"
      }
    },
    {
      "cell_type": "code",
      "source": [
        "y_train"
      ],
      "metadata": {
        "colab": {
          "base_uri": "https://localhost:8080/"
        },
        "id": "H6nr3dEPvmdy",
        "outputId": "2da59b42-bab3-436d-ca76-8da5841fdf40"
      },
      "execution_count": null,
      "outputs": [
        {
          "output_type": "execute_result",
          "data": {
            "text/plain": [
              "array([0.27175238, 0.26789956, 0.27496307, ..., 0.68978356, 0.69877348,\n",
              "       0.70031462])"
            ]
          },
          "metadata": {},
          "execution_count": 20
        }
      ]
    },
    {
      "cell_type": "code",
      "source": [
        "# now we have to add a dimesion called units that is the number of predictors we can have to predict the stock price\n",
        "# anytime we want to add a dimension in the numpy array we use the reshape function\n",
        "\n",
        "x_train = np.reshape(x_train, (x_train.shape[0], x_train.shape[1], 1))"
      ],
      "metadata": {
        "id": "d9aJy_IWwDsP"
      },
      "execution_count": null,
      "outputs": []
    },
    {
      "cell_type": "code",
      "source": [
        "# building the RNN\n",
        "\n",
        "regressor = Sequential()\n",
        "regressor.add(LSTM(units = 50, return_sequences = True, input_shape = (x_train.shape[1], 1)))\n",
        "regressor.add(Dropout(0.2))\n",
        "\n",
        "# second LSTM layer \n",
        "regressor.add(LSTM(units = 50, return_sequences = True))\n",
        "regressor.add(Dropout(0.2))\n",
        "\n",
        "# 3rd LSTM layer \n",
        "regressor.add(LSTM(units = 50, return_sequences = True))\n",
        "regressor.add(Dropout(0.2))\n",
        "\n",
        "# 4th LSTM layer \n",
        "regressor.add(LSTM(units = 50))\n",
        "regressor.add(Dropout(0.2))"
      ],
      "metadata": {
        "id": "yzKOBD_Exh9b"
      },
      "execution_count": null,
      "outputs": []
    },
    {
      "cell_type": "code",
      "source": [
        "# making the prediction \n",
        "regressor.add(Dense(units = 1))\n",
        "\n",
        "# compiling the RNN\n",
        "regressor.compile(optimizer = 'adam', loss = 'mean_squared_error')\n",
        "\n",
        "# fitting the model \n",
        "regressor.fit(x_train, y_train, epochs = 100, batch_size = 32)"
      ],
      "metadata": {
        "colab": {
          "base_uri": "https://localhost:8080/"
        },
        "id": "1-fkTF3j8kKt",
        "outputId": "c5ccfab3-00ac-43f2-aa94-da3f63608b3a"
      },
      "execution_count": null,
      "outputs": [
        {
          "output_type": "stream",
          "name": "stdout",
          "text": [
            "Epoch 1/100\n",
            "36/36 [==============================] - 15s 131ms/step - loss: 0.1071\n",
            "Epoch 2/100\n",
            "36/36 [==============================] - 6s 165ms/step - loss: 0.0573\n",
            "Epoch 3/100\n",
            "36/36 [==============================] - 5s 128ms/step - loss: 0.0106\n",
            "Epoch 4/100\n",
            "36/36 [==============================] - 5s 130ms/step - loss: 0.0064\n",
            "Epoch 5/100\n",
            "36/36 [==============================] - 6s 172ms/step - loss: 0.0059\n",
            "Epoch 6/100\n",
            "36/36 [==============================] - 5s 137ms/step - loss: 0.0059\n",
            "Epoch 7/100\n",
            "36/36 [==============================] - 6s 167ms/step - loss: 0.0060\n",
            "Epoch 8/100\n",
            "36/36 [==============================] - 5s 143ms/step - loss: 0.0061\n",
            "Epoch 9/100\n",
            "36/36 [==============================] - 6s 167ms/step - loss: 0.0057\n",
            "Epoch 10/100\n",
            "36/36 [==============================] - 5s 143ms/step - loss: 0.0060\n",
            "Epoch 11/100\n",
            "36/36 [==============================] - 5s 143ms/step - loss: 0.0055\n",
            "Epoch 12/100\n",
            "36/36 [==============================] - 6s 178ms/step - loss: 0.0057\n",
            "Epoch 13/100\n",
            "36/36 [==============================] - 5s 138ms/step - loss: 0.0056\n",
            "Epoch 14/100\n",
            "36/36 [==============================] - 6s 175ms/step - loss: 0.0057\n",
            "Epoch 15/100\n",
            "36/36 [==============================] - 5s 133ms/step - loss: 0.0056\n",
            "Epoch 16/100\n",
            "36/36 [==============================] - 6s 172ms/step - loss: 0.0056\n",
            "Epoch 17/100\n",
            "36/36 [==============================] - 5s 146ms/step - loss: 0.0049\n",
            "Epoch 18/100\n",
            "36/36 [==============================] - 5s 144ms/step - loss: 0.0054\n",
            "Epoch 19/100\n",
            "36/36 [==============================] - 6s 170ms/step - loss: 0.0051\n",
            "Epoch 20/100\n",
            "36/36 [==============================] - 5s 147ms/step - loss: 0.0051\n",
            "Epoch 21/100\n",
            "36/36 [==============================] - 6s 172ms/step - loss: 0.0057\n",
            "Epoch 22/100\n",
            "36/36 [==============================] - 5s 142ms/step - loss: 0.0049\n",
            "Epoch 23/100\n",
            "36/36 [==============================] - 6s 176ms/step - loss: 0.0051\n",
            "Epoch 24/100\n",
            "36/36 [==============================] - 5s 136ms/step - loss: 0.0051\n",
            "Epoch 25/100\n",
            "36/36 [==============================] - 6s 175ms/step - loss: 0.0047\n",
            "Epoch 26/100\n",
            "36/36 [==============================] - 5s 140ms/step - loss: 0.0047\n",
            "Epoch 27/100\n",
            "36/36 [==============================] - 5s 145ms/step - loss: 0.0049\n",
            "Epoch 28/100\n",
            "36/36 [==============================] - 7s 185ms/step - loss: 0.0052\n",
            "Epoch 29/100\n",
            "36/36 [==============================] - 5s 148ms/step - loss: 0.0052\n",
            "Epoch 30/100\n",
            "36/36 [==============================] - 6s 173ms/step - loss: 0.0051\n",
            "Epoch 31/100\n",
            "36/36 [==============================] - 6s 156ms/step - loss: 0.0046\n",
            "Epoch 32/100\n",
            "36/36 [==============================] - 7s 188ms/step - loss: 0.0052\n",
            "Epoch 33/100\n",
            "36/36 [==============================] - 5s 144ms/step - loss: 0.0047\n",
            "Epoch 34/100\n",
            "36/36 [==============================] - 7s 187ms/step - loss: 0.0043\n",
            "Epoch 35/100\n",
            "36/36 [==============================] - 5s 145ms/step - loss: 0.0035\n",
            "Epoch 36/100\n",
            "36/36 [==============================] - 6s 173ms/step - loss: 0.0046\n",
            "Epoch 37/100\n",
            "36/36 [==============================] - 5s 143ms/step - loss: 0.0032\n",
            "Epoch 38/100\n",
            "36/36 [==============================] - 5s 148ms/step - loss: 0.0041\n",
            "Epoch 39/100\n",
            "36/36 [==============================] - 6s 162ms/step - loss: 0.0032\n",
            "Epoch 40/100\n",
            "36/36 [==============================] - 5s 142ms/step - loss: 0.0030\n",
            "Epoch 41/100\n",
            "36/36 [==============================] - 6s 168ms/step - loss: 0.0034\n",
            "Epoch 42/100\n",
            "36/36 [==============================] - 5s 145ms/step - loss: 0.0031\n",
            "Epoch 43/100\n",
            "36/36 [==============================] - 6s 174ms/step - loss: 0.0031\n",
            "Epoch 44/100\n",
            "36/36 [==============================] - 5s 140ms/step - loss: 0.0030\n",
            "Epoch 45/100\n",
            "36/36 [==============================] - 6s 177ms/step - loss: 0.0032\n",
            "Epoch 46/100\n",
            "36/36 [==============================] - 5s 141ms/step - loss: 0.0030\n",
            "Epoch 47/100\n",
            "36/36 [==============================] - 5s 146ms/step - loss: 0.0027\n",
            "Epoch 48/100\n",
            "36/36 [==============================] - 6s 166ms/step - loss: 0.0035\n",
            "Epoch 49/100\n",
            "36/36 [==============================] - 5s 141ms/step - loss: 0.0027\n",
            "Epoch 50/100\n",
            "36/36 [==============================] - 6s 169ms/step - loss: 0.0030\n",
            "Epoch 51/100\n",
            "36/36 [==============================] - 5s 146ms/step - loss: 0.0030\n",
            "Epoch 52/100\n",
            "36/36 [==============================] - 6s 170ms/step - loss: 0.0025\n",
            "Epoch 53/100\n",
            "36/36 [==============================] - 5s 139ms/step - loss: 0.0029\n",
            "Epoch 54/100\n",
            "36/36 [==============================] - 6s 181ms/step - loss: 0.0025\n",
            "Epoch 55/100\n",
            "36/36 [==============================] - 5s 141ms/step - loss: 0.0027\n",
            "Epoch 56/100\n",
            "36/36 [==============================] - 5s 151ms/step - loss: 0.0023\n",
            "Epoch 57/100\n",
            "36/36 [==============================] - 6s 166ms/step - loss: 0.0025\n",
            "Epoch 58/100\n",
            "36/36 [==============================] - 5s 145ms/step - loss: 0.0029\n",
            "Epoch 59/100\n",
            "36/36 [==============================] - 6s 173ms/step - loss: 0.0024\n",
            "Epoch 60/100\n",
            "36/36 [==============================] - 5s 151ms/step - loss: 0.0023\n",
            "Epoch 61/100\n",
            "36/36 [==============================] - 6s 170ms/step - loss: 0.0024\n",
            "Epoch 62/100\n",
            "36/36 [==============================] - 5s 147ms/step - loss: 0.0024\n",
            "Epoch 63/100\n",
            "36/36 [==============================] - 7s 193ms/step - loss: 0.0023\n",
            "Epoch 64/100\n",
            "36/36 [==============================] - 5s 144ms/step - loss: 0.0023\n",
            "Epoch 65/100\n",
            "36/36 [==============================] - 6s 180ms/step - loss: 0.0022\n",
            "Epoch 66/100\n",
            "36/36 [==============================] - 5s 142ms/step - loss: 0.0025\n",
            "Epoch 67/100\n",
            "36/36 [==============================] - 5s 144ms/step - loss: 0.0021\n",
            "Epoch 68/100\n",
            "36/36 [==============================] - 6s 168ms/step - loss: 0.0024\n",
            "Epoch 69/100\n",
            "36/36 [==============================] - 5s 144ms/step - loss: 0.0024\n",
            "Epoch 70/100\n",
            "36/36 [==============================] - 6s 172ms/step - loss: 0.0023\n",
            "Epoch 71/100\n",
            "36/36 [==============================] - 5s 148ms/step - loss: 0.0021\n",
            "Epoch 72/100\n",
            "36/36 [==============================] - 6s 175ms/step - loss: 0.0025\n",
            "Epoch 73/100\n",
            "36/36 [==============================] - 5s 141ms/step - loss: 0.0023\n",
            "Epoch 74/100\n",
            "36/36 [==============================] - 7s 182ms/step - loss: 0.0020\n",
            "Epoch 75/100\n",
            "36/36 [==============================] - 5s 142ms/step - loss: 0.0020\n",
            "Epoch 76/100\n",
            "36/36 [==============================] - 6s 156ms/step - loss: 0.0021\n",
            "Epoch 77/100\n",
            "36/36 [==============================] - 6s 160ms/step - loss: 0.0020\n",
            "Epoch 78/100\n",
            "36/36 [==============================] - 5s 139ms/step - loss: 0.0022\n",
            "Epoch 79/100\n",
            "36/36 [==============================] - 6s 175ms/step - loss: 0.0020\n",
            "Epoch 80/100\n",
            "36/36 [==============================] - 5s 147ms/step - loss: 0.0019\n",
            "Epoch 81/100\n",
            "36/36 [==============================] - 6s 173ms/step - loss: 0.0020\n",
            "Epoch 82/100\n",
            "36/36 [==============================] - 5s 142ms/step - loss: 0.0019\n",
            "Epoch 83/100\n",
            "36/36 [==============================] - 6s 179ms/step - loss: 0.0019\n",
            "Epoch 84/100\n",
            "36/36 [==============================] - 5s 139ms/step - loss: 0.0020\n",
            "Epoch 85/100\n",
            "36/36 [==============================] - 6s 167ms/step - loss: 0.0020\n",
            "Epoch 86/100\n",
            "36/36 [==============================] - 6s 152ms/step - loss: 0.0020\n",
            "Epoch 87/100\n",
            "36/36 [==============================] - 5s 141ms/step - loss: 0.0018\n",
            "Epoch 88/100\n",
            "36/36 [==============================] - 6s 178ms/step - loss: 0.0018\n",
            "Epoch 89/100\n",
            "36/36 [==============================] - 5s 146ms/step - loss: 0.0019\n",
            "Epoch 90/100\n",
            "36/36 [==============================] - 6s 175ms/step - loss: 0.0021\n",
            "Epoch 91/100\n",
            "36/36 [==============================] - 5s 146ms/step - loss: 0.0020\n",
            "Epoch 92/100\n",
            "36/36 [==============================] - 6s 175ms/step - loss: 0.0021\n",
            "Epoch 93/100\n",
            "36/36 [==============================] - 5s 140ms/step - loss: 0.0019\n",
            "Epoch 94/100\n",
            "36/36 [==============================] - 6s 176ms/step - loss: 0.0017\n",
            "Epoch 95/100\n",
            "36/36 [==============================] - 5s 146ms/step - loss: 0.0017\n",
            "Epoch 96/100\n",
            "36/36 [==============================] - 5s 150ms/step - loss: 0.0019\n",
            "Epoch 97/100\n",
            "36/36 [==============================] - 6s 164ms/step - loss: 0.0018\n",
            "Epoch 98/100\n",
            "36/36 [==============================] - 5s 141ms/step - loss: 0.0018\n",
            "Epoch 99/100\n",
            "36/36 [==============================] - 6s 172ms/step - loss: 0.0017\n",
            "Epoch 100/100\n",
            "36/36 [==============================] - 5s 140ms/step - loss: 0.0019\n"
          ]
        },
        {
          "output_type": "execute_result",
          "data": {
            "text/plain": [
              "<keras.callbacks.History at 0x7ff595689340>"
            ]
          },
          "metadata": {},
          "execution_count": 24
        }
      ]
    },
    {
      "cell_type": "code",
      "source": [
        "# Part 2 \n",
        "# Predicting the REIT price testing on the test set \n",
        "\n",
        "dataset_test = pd.read_csv('/content/OBEROIRLTY.NS Test.csv')\n",
        "dataset_test.dropna(inplace=True)\n",
        "REIT_price = dataset_test.iloc[:, 1:2].values\n",
        "\n",
        "# getting the predicted price \n",
        "dataset_total = pd.concat((dataset_train['Open'], dataset_test['Open']), axis=0)\n",
        "inputs = dataset_total[len(dataset_total)- len(dataset_test) - 60:].values\n",
        "inputs = inputs.reshape(-1,1)\n",
        "inputs = scaling.transform(inputs)\n",
        "\n",
        "test_x = []\n",
        "\n",
        "for i in range(60, 110):\n",
        "  test_x.append(inputs[i-60:i,0])\n",
        "test_x = np.array(test_x)\n",
        "\n",
        "\n",
        "test_x = np.reshape(test_x, (test_x.shape[0], test_x.shape[1], 1))\n"
      ],
      "metadata": {
        "id": "cQKKz0VAcTwY"
      },
      "execution_count": null,
      "outputs": []
    },
    {
      "cell_type": "code",
      "source": [
        "predicted_reit_price = regressor.predict(test_x)\n",
        "predicted_reit_price = scaling.inverse_transform(predicted_reit_price)"
      ],
      "metadata": {
        "colab": {
          "base_uri": "https://localhost:8080/"
        },
        "id": "uk5iMJN7r_VE",
        "outputId": "40b132d4-ae39-4efa-de6d-566f9075c233"
      },
      "execution_count": null,
      "outputs": [
        {
          "output_type": "stream",
          "name": "stdout",
          "text": [
            "2/2 [==============================] - 0s 49ms/step\n"
          ]
        }
      ]
    },
    {
      "cell_type": "code",
      "source": [
        "predicted_reit_price"
      ],
      "metadata": {
        "id": "6PGPCzD9sEfr"
      },
      "execution_count": null,
      "outputs": []
    },
    {
      "cell_type": "code",
      "source": [
        "plt.plot(REIT_price, color='red', label='Real REIT price')\n",
        "plt.plot(predicted_reit_price, color='blue', label='predicted REIT price')\n",
        "plt.title = 'OBEROI REIT price(trend) prediction'\n",
        "plt.xlabel = 'Date (time)'\n",
        "plt.ylabel = 'Price of REIT'\n",
        "plt.legend()\n",
        "plt.show()"
      ],
      "metadata": {
        "colab": {
          "base_uri": "https://localhost:8080/",
          "height": 265
        },
        "id": "w_sPPeY5nf57",
        "outputId": "ff469d79-4f83-4c7e-8c22-51403d2c8fb6"
      },
      "execution_count": null,
      "outputs": [
        {
          "output_type": "display_data",
          "data": {
            "text/plain": [
              "<Figure size 432x288 with 1 Axes>"
            ],
            "image/png": "[encoded data removed]"
          },
          "metadata": {
            "needs_background": "light"
          }
        }
      ]
    },
    {
      "cell_type": "code",
      "source": [],
      "metadata": {
        "id": "4Uelbp2-ppr_"
      },
      "execution_count": null,
      "outputs": []
    },
    {
      "cell_type": "code",
      "source": [],
      "metadata": {
        "id": "ClyBYgYyps0t"
      },
      "execution_count": null,
      "outputs": []
    }
  ]
}